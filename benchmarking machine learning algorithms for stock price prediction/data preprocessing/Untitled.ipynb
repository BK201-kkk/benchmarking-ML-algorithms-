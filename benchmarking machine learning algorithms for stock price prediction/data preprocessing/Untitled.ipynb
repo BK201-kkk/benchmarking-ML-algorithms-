{
 "cells": [
  {
   "cell_type": "code",
   "execution_count": 2,
   "id": "bf8de9e1",
   "metadata": {},
   "outputs": [
    {
     "name": "stdout",
     "output_type": "stream",
     "text": [
      "                    Open          High           Low         Close  \\\n",
      "Date                                                                 \n",
      "2020-07-27  10421.700195  10546.440430  10399.860352  10536.269531   \n",
      "2020-07-28  10509.200195  10523.639648  10397.870117  10402.089844   \n",
      "2020-07-29  10474.700195  10567.910156  10464.000000  10542.940430   \n",
      "2020-07-30  10450.120117  10609.589844  10412.089844  10587.809570   \n",
      "2020-07-31  10741.469727  10747.799805  10557.700195  10745.269531   \n",
      "...                  ...           ...           ...           ...   \n",
      "2023-07-17  14149.919922  14274.410156  14138.009766  14244.950195   \n",
      "2023-07-18  14212.250000  14396.690430  14176.110352  14353.639648   \n",
      "2023-07-19  14398.530273  14446.549805  14317.089844  14358.019531   \n",
      "2023-07-20  14273.290039  14309.919922  14030.620117  14063.309570   \n",
      "2023-07-21  14148.179688  14179.009766  14020.450195  14032.809570   \n",
      "\n",
      "               Adj Close        Volume  truth  \n",
      "Date                                           \n",
      "2020-07-27  10536.269531  4.244570e+09      1  \n",
      "2020-07-28  10402.089844  3.894660e+09      1  \n",
      "2020-07-29  10542.940430  4.009640e+09      1  \n",
      "2020-07-30  10587.809570  4.185810e+09      1  \n",
      "2020-07-31  10745.269531  4.438730e+09      1  \n",
      "...                  ...           ...    ...  \n",
      "2023-07-17  14244.950195  4.593160e+09      1  \n",
      "2023-07-18  14353.639648  4.824070e+09      1  \n",
      "2023-07-19  14358.019531  5.112420e+09      1  \n",
      "2023-07-20  14063.309570  5.128020e+09      1  \n",
      "2023-07-21  14032.809570  5.254180e+09      1  \n",
      "\n",
      "[1090 rows x 7 columns]\n"
     ]
    }
   ],
   "source": [
    "import pandas as pd\n",
    "\n",
    "# Read '^IXIC.csv'\n",
    "df = pd.read_csv('^IXIC.csv')\n",
    "\n",
    "# Convert the date column to a date format and set it as an index\n",
    "df['Date'] = pd.to_datetime(df['Date'])\n",
    "df.set_index('Date', inplace=True)\n",
    "\n",
    "# Create a new date range that includes all possible dates\n",
    "all_days = pd.date_range(start=df.index.min(), end=df.index.max(), freq='D')\n",
    "\n",
    "# Use this new date range to resample your dataframe\n",
    "df_resampled = df.resample('D').asfreq()\n",
    "\n",
    "# Create a new column, when the value is filled, it is 0, otherwise it is 1\n",
    "df_resampled['truth'] = df_resampled.notna().all(axis=1).astype(int)\n",
    "\n",
    "# Fill missing values with the previous valid value\n",
    "df_resampled.fillna(method='ffill', inplace=True)\n",
    "\n",
    "print(df_resampled)\n"
   ]
  },
  {
   "cell_type": "code",
   "execution_count": 3,
   "id": "2752493c",
   "metadata": {},
   "outputs": [
    {
     "name": "stdout",
     "output_type": "stream",
     "text": [
      "Open         False\n",
      "High         False\n",
      "Low          False\n",
      "Close        False\n",
      "Adj Close    False\n",
      "Volume       False\n",
      "dtype: bool\n"
     ]
    }
   ],
   "source": [
    "# Check for missing values\n",
    "print(df.isnull().any())"
   ]
  },
  {
   "cell_type": "code",
   "execution_count": 7,
   "id": "e790f4a4",
   "metadata": {},
   "outputs": [],
   "source": [
    "# Export DataFrame to CSV file\n",
    "df_resampled.to_csv('new_^IXIC.csv')"
   ]
  },
  {
   "cell_type": "code",
   "execution_count": null,
   "id": "c9f6c3ce",
   "metadata": {},
   "outputs": [],
   "source": []
  }
 ],
 "metadata": {
  "kernelspec": {
   "display_name": "Python 3 (ipykernel)",
   "language": "python",
   "name": "python3"
  },
  "language_info": {
   "codemirror_mode": {
    "name": "ipython",
    "version": 3
   },
   "file_extension": ".py",
   "mimetype": "text/x-python",
   "name": "python",
   "nbconvert_exporter": "python",
   "pygments_lexer": "ipython3",
   "version": "3.9.13"
  }
 },
 "nbformat": 4,
 "nbformat_minor": 5
}
